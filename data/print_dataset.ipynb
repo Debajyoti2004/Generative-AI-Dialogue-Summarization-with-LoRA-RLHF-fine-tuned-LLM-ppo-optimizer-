{
 "cells": [
  {
   "cell_type": "code",
   "execution_count": 1,
   "metadata": {},
   "outputs": [
    {
     "name": "stderr",
     "output_type": "stream",
     "text": [
      "c:\\Users\\Debajyoti\\AppData\\Local\\Programs\\Python\\Python312\\Lib\\site-packages\\tqdm\\auto.py:21: TqdmWarning: IProgress not found. Please update jupyter and ipywidgets. See https://ipywidgets.readthedocs.io/en/stable/user_install.html\n",
      "  from .autonotebook import tqdm as notebook_tqdm\n"
     ]
    }
   ],
   "source": [
    "from datasets import load_from_disk"
   ]
  },
  {
   "cell_type": "code",
   "execution_count": 2,
   "metadata": {},
   "outputs": [
    {
     "name": "stdout",
     "output_type": "stream",
     "text": [
      "DatasetDict({\n",
      "    train: Dataset({\n",
      "        features: ['id', 'dialogue', 'summary', 'topic'],\n",
      "        num_rows: 12460\n",
      "    })\n",
      "    validation: Dataset({\n",
      "        features: ['id', 'dialogue', 'summary', 'topic'],\n",
      "        num_rows: 500\n",
      "    })\n",
      "    test: Dataset({\n",
      "        features: ['id', 'dialogue', 'summary', 'topic'],\n",
      "        num_rows: 1500\n",
      "    })\n",
      "})\n"
     ]
    }
   ],
   "source": [
    "dataset_dir = r\"C:\\Users\\Debajyoti\\OneDrive\\Desktop\\Generative_AI_(fine_tuned_model__detoxify_summarization\\data\\dialogue_summarization_dataset\"\n",
    "dataset = load_from_disk(dataset_dir)\n",
    "print(dataset)"
   ]
  },
  {
   "cell_type": "code",
   "execution_count": 3,
   "metadata": {},
   "outputs": [
    {
     "name": "stderr",
     "output_type": "stream",
     "text": [
      "Filter: 100%|██████████| 12460/12460 [00:00<00:00, 166839.68 examples/s]\n",
      "Map: 100%|██████████| 10016/10016 [00:11<00:00, 848.20 examples/s]\n",
      "Saving the dataset (1/1 shards): 100%|██████████| 8012/8012 [00:00<00:00, 139208.38 examples/s]\n",
      "Saving the dataset (1/1 shards): 100%|██████████| 2004/2004 [00:00<00:00, 111567.52 examples/s]"
     ]
    },
    {
     "name": "stdout",
     "output_type": "stream",
     "text": [
      "Preprocessed Dataset saved successfully at destined location!\n"
     ]
    },
    {
     "name": "stderr",
     "output_type": "stream",
     "text": [
      "\n"
     ]
    }
   ],
   "source": [
    "from preprocessed_dataset import Preprocessing_dataset\n",
    "\n",
    "\n",
    "# Configuration\n",
    "model_name = \"google/flan-t5-base\"\n",
    "dataset_path = r\"C:\\Users\\Debajyoti\\OneDrive\\Desktop\\Generative_AI_(fine_tuned_model__detoxify_summarization\\data\\dialogue_summarization_dataset\"\n",
    "input_min_text_length = 200\n",
    "input_max_text_length = 1000\n",
    "\n",
    "# Initialize Preprocessing\n",
    "preprocessing_dataset = Preprocessing_dataset(\n",
    "    model_name=model_name,\n",
    "    dataset_path=dataset_path,\n",
    "    input_min_text_length=input_min_text_length,\n",
    "    input_max_text_length=input_max_text_length,\n",
    "    type=\"train\"\n",
    ")\n",
    "\n",
    "# Preprocess and Save Dataset\n",
    "preprocessed_dataset = preprocessing_dataset.update_dataset()\n",
    "preprocessed_dataset.save_to_disk(\n",
    "    r\"C:\\Users\\Debajyoti\\OneDrive\\Desktop\\Generative_AI_(fine_tuned_model__detoxify_summarization\\data\\preprocess_datasets\"\n",
    ")\n",
    "print(\"Preprocessed Dataset saved successfully at destined location!\")\n"
   ]
  },
  {
   "cell_type": "code",
   "execution_count": null,
   "metadata": {},
   "outputs": [],
   "source": []
  }
 ],
 "metadata": {
  "kernelspec": {
   "display_name": "Python 3",
   "language": "python",
   "name": "python3"
  },
  "language_info": {
   "codemirror_mode": {
    "name": "ipython",
    "version": 3
   },
   "file_extension": ".py",
   "mimetype": "text/x-python",
   "name": "python",
   "nbconvert_exporter": "python",
   "pygments_lexer": "ipython3",
   "version": "3.12.3"
  }
 },
 "nbformat": 4,
 "nbformat_minor": 2
}
